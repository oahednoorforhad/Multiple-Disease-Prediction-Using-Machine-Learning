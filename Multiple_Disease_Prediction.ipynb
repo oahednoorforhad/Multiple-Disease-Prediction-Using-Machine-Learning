{
  "cells": [
    {
      "cell_type": "code",
      "execution_count": null,
      "metadata": {
        "id": "DVW5q3LQaXnO"
      },
      "outputs": [],
      "source": [
        "import pandas as pd\n",
        "import numpy as np\n",
        "from collections import Counter\n",
        "from math import log\n",
        "import math\n",
        "import seaborn as sns\n",
        "import matplotlib.pyplot as plt"
      ]
    },
    {
      "cell_type": "code",
      "execution_count": null,
      "metadata": {
        "colab": {
          "base_uri": "https://localhost:8080/"
        },
        "id": "gLYfip4arJ4W",
        "outputId": "d4889ce3-3359-420e-ebba-472f74c92966"
      },
      "outputs": [
        {
          "output_type": "stream",
          "name": "stdout",
          "text": [
            "Drive already mounted at /content/drive; to attempt to forcibly remount, call drive.mount(\"/content/drive\", force_remount=True).\n"
          ]
        }
      ],
      "source": [
        "from google.colab import drive\n",
        "drive.mount('/content/drive')"
      ]
    },
    {
      "cell_type": "code",
      "execution_count": null,
      "metadata": {
        "id": "Y-NRu_oZc7LN"
      },
      "outputs": [],
      "source": [
        "from sklearn.metrics import confusion_matrix\n",
        "from sklearn.model_selection import KFold\n",
        "from sklearn.model_selection import train_test_split\n",
        "from sklearn import preprocessing\n",
        "from sklearn.ensemble import AdaBoostClassifier\n",
        "from sklearn.tree import DecisionTreeClassifier\n",
        "from sklearn.preprocessing import LabelEncoder\n",
        "from sklearn import metrics\n",
        "from sklearn.model_selection import train_test_split\n",
        "from sklearn.metrics import classification_report, confusion_matrix\n",
        "from sklearn.metrics import accuracy_score\n",
        "from sklearn.linear_model import LogisticRegression\n",
        "from sklearn.naive_bayes import GaussianNB\n",
        "from sklearn.neighbors import KNeighborsClassifier\n",
        "from sklearn.svm import SVC\n",
        "from sklearn.ensemble import RandomForestClassifier\n",
        "# from xgboost.sklearn import XGBClassifier"
      ]
    },
    {
      "cell_type": "code",
      "execution_count": null,
      "metadata": {
        "id": "tpQAUyDldWgm"
      },
      "outputs": [],
      "source": [
        "AccDict={}"
      ]
    },
    {
      "cell_type": "code",
      "execution_count": null,
      "metadata": {
        "colab": {
          "base_uri": "https://localhost:8080/",
          "height": 495
        },
        "id": "-AcMOvG1ask1",
        "outputId": "b3efb973-f50f-47c7-9850-bd89faddbd9b"
      },
      "outputs": [
        {
          "output_type": "execute_result",
          "data": {
            "text/plain": [
              "        Glucose  Cholesterol  Hemoglobin      Platelets  White Blood Cells  \\\n",
              "0     88.745398   164.648986    7.977587  160483.916400        5750.896435   \n",
              "1     91.655318   182.323755    9.829500  334624.369788        7592.373009   \n",
              "2     84.585084   174.978108    8.827604  336187.673263        9230.644677   \n",
              "3     89.451092   163.471972   12.971330  383353.281756        9202.974727   \n",
              "4     73.003778   156.078651    9.508795  316801.763755        6128.291310   \n",
              "...         ...          ...         ...            ...                ...   \n",
              "1995  78.467304   196.030695    9.660400  248017.013263        7322.896501   \n",
              "1996  89.794868   199.208832    9.622338  367917.227317        6464.105997   \n",
              "1997  94.588648   198.728059    9.828401  364022.336598        4571.157930   \n",
              "1998  83.755948   192.621517   14.307665  890931.140750        5250.891739   \n",
              "1999  71.671780   167.122399   12.945867  391604.346467        8125.107371   \n",
              "\n",
              "      Red Blood Cells  Hematocrit  Mean Corpuscular Volume  \\\n",
              "0            4.636745   38.340444                64.593344   \n",
              "1            3.835851   31.979465                76.793555   \n",
              "2            4.614338   36.316898                66.538905   \n",
              "3            5.308061   45.772641                80.585989   \n",
              "4            4.313145   30.901451                79.257418   \n",
              "...               ...         ...                      ...   \n",
              "1995         5.053746   36.629959                62.645940   \n",
              "1996         5.126182   38.511034                68.566524   \n",
              "1997         5.328591   30.750623                72.023879   \n",
              "1998         4.569858   38.342342                82.944120   \n",
              "1999         4.986188   44.965611                82.783934   \n",
              "\n",
              "      Mean Corpuscular Hemoglobin  Mean Corpuscular Hemoglobin Concentration  \\\n",
              "0                       21.931813                                  34.368769   \n",
              "1                       26.837216                                  32.324219   \n",
              "2                       21.107809                                  32.986063   \n",
              "3                       30.708618                                  34.038035   \n",
              "4                       23.804128                                  30.325409   \n",
              "...                           ...                                        ...   \n",
              "1995                    21.071221                                  31.740195   \n",
              "1996                    20.252809                                  34.769170   \n",
              "1997                    20.400870                                  33.050342   \n",
              "1998                    31.002047                                  33.976087   \n",
              "1999                    29.664262                                  34.504937   \n",
              "\n",
              "      ...     HbA1c  LDL Cholesterol  HDL Cholesterol        ALT        AST  \\\n",
              "0     ...  5.567696       128.513338        44.464599  10.255846  18.127648   \n",
              "1     ...  5.494498       117.107477        44.810738  17.570144  26.675088   \n",
              "2     ...  4.461032       118.164588        42.624499  50.235033  34.856542   \n",
              "3     ...  4.653919       113.533812        41.054196   8.840745  31.515443   \n",
              "4     ...  5.056972       110.582695        40.558452  54.729142  34.582405   \n",
              "...   ...       ...              ...              ...        ...        ...   \n",
              "1995  ...  4.599571       122.174444        40.130326  30.375447  33.817132   \n",
              "1996  ...  4.151174       121.470573        55.986503  42.545366  16.067826   \n",
              "1997  ...  5.112558       100.175238        48.060647   9.054448  30.204996   \n",
              "1998  ...  5.474767       123.730846        53.764718  51.770217  31.425448   \n",
              "1999  ...  4.911004       117.999154        44.026242  26.361749  11.183786   \n",
              "\n",
              "      Heart Rate  Creatinine  Troponin  C-reactive Protein      Disease  \n",
              "0      75.909278    0.864603  0.024752            0.269851  Thalassemia  \n",
              "1      96.259357    0.643421  0.024176            0.230941       Anemia  \n",
              "2      86.082633    0.875048  0.037318            0.249224  Thalassemia  \n",
              "3      81.523787    0.905224  0.009725            0.223425      Healthy  \n",
              "4      62.936753    0.869506  0.025401            0.057178       Anemia  \n",
              "...          ...         ...       ...                 ...          ...  \n",
              "1995   85.201789    0.884438  0.025786            0.272084  Thalassemia  \n",
              "1996   87.591018    0.606434  0.012204            0.119646  Thalassemia  \n",
              "1997   98.757940    0.993157  0.008975            0.106570  Thalassemia  \n",
              "1998   98.157450    0.614873  0.036866            0.166722     Thromboc  \n",
              "1999   79.021841    0.925815  0.009110            0.289209      Healthy  \n",
              "\n",
              "[2000 rows x 25 columns]"
            ],
            "text/html": [
              "\n",
              "  <div id=\"df-247db6a4-4290-452b-bbcd-5575907255f7\" class=\"colab-df-container\">\n",
              "    <div>\n",
              "<style scoped>\n",
              "    .dataframe tbody tr th:only-of-type {\n",
              "        vertical-align: middle;\n",
              "    }\n",
              "\n",
              "    .dataframe tbody tr th {\n",
              "        vertical-align: top;\n",
              "    }\n",
              "\n",
              "    .dataframe thead th {\n",
              "        text-align: right;\n",
              "    }\n",
              "</style>\n",
              "<table border=\"1\" class=\"dataframe\">\n",
              "  <thead>\n",
              "    <tr style=\"text-align: right;\">\n",
              "      <th></th>\n",
              "      <th>Glucose</th>\n",
              "      <th>Cholesterol</th>\n",
              "      <th>Hemoglobin</th>\n",
              "      <th>Platelets</th>\n",
              "      <th>White Blood Cells</th>\n",
              "      <th>Red Blood Cells</th>\n",
              "      <th>Hematocrit</th>\n",
              "      <th>Mean Corpuscular Volume</th>\n",
              "      <th>Mean Corpuscular Hemoglobin</th>\n",
              "      <th>Mean Corpuscular Hemoglobin Concentration</th>\n",
              "      <th>...</th>\n",
              "      <th>HbA1c</th>\n",
              "      <th>LDL Cholesterol</th>\n",
              "      <th>HDL Cholesterol</th>\n",
              "      <th>ALT</th>\n",
              "      <th>AST</th>\n",
              "      <th>Heart Rate</th>\n",
              "      <th>Creatinine</th>\n",
              "      <th>Troponin</th>\n",
              "      <th>C-reactive Protein</th>\n",
              "      <th>Disease</th>\n",
              "    </tr>\n",
              "  </thead>\n",
              "  <tbody>\n",
              "    <tr>\n",
              "      <th>0</th>\n",
              "      <td>88.745398</td>\n",
              "      <td>164.648986</td>\n",
              "      <td>7.977587</td>\n",
              "      <td>160483.916400</td>\n",
              "      <td>5750.896435</td>\n",
              "      <td>4.636745</td>\n",
              "      <td>38.340444</td>\n",
              "      <td>64.593344</td>\n",
              "      <td>21.931813</td>\n",
              "      <td>34.368769</td>\n",
              "      <td>...</td>\n",
              "      <td>5.567696</td>\n",
              "      <td>128.513338</td>\n",
              "      <td>44.464599</td>\n",
              "      <td>10.255846</td>\n",
              "      <td>18.127648</td>\n",
              "      <td>75.909278</td>\n",
              "      <td>0.864603</td>\n",
              "      <td>0.024752</td>\n",
              "      <td>0.269851</td>\n",
              "      <td>Thalassemia</td>\n",
              "    </tr>\n",
              "    <tr>\n",
              "      <th>1</th>\n",
              "      <td>91.655318</td>\n",
              "      <td>182.323755</td>\n",
              "      <td>9.829500</td>\n",
              "      <td>334624.369788</td>\n",
              "      <td>7592.373009</td>\n",
              "      <td>3.835851</td>\n",
              "      <td>31.979465</td>\n",
              "      <td>76.793555</td>\n",
              "      <td>26.837216</td>\n",
              "      <td>32.324219</td>\n",
              "      <td>...</td>\n",
              "      <td>5.494498</td>\n",
              "      <td>117.107477</td>\n",
              "      <td>44.810738</td>\n",
              "      <td>17.570144</td>\n",
              "      <td>26.675088</td>\n",
              "      <td>96.259357</td>\n",
              "      <td>0.643421</td>\n",
              "      <td>0.024176</td>\n",
              "      <td>0.230941</td>\n",
              "      <td>Anemia</td>\n",
              "    </tr>\n",
              "    <tr>\n",
              "      <th>2</th>\n",
              "      <td>84.585084</td>\n",
              "      <td>174.978108</td>\n",
              "      <td>8.827604</td>\n",
              "      <td>336187.673263</td>\n",
              "      <td>9230.644677</td>\n",
              "      <td>4.614338</td>\n",
              "      <td>36.316898</td>\n",
              "      <td>66.538905</td>\n",
              "      <td>21.107809</td>\n",
              "      <td>32.986063</td>\n",
              "      <td>...</td>\n",
              "      <td>4.461032</td>\n",
              "      <td>118.164588</td>\n",
              "      <td>42.624499</td>\n",
              "      <td>50.235033</td>\n",
              "      <td>34.856542</td>\n",
              "      <td>86.082633</td>\n",
              "      <td>0.875048</td>\n",
              "      <td>0.037318</td>\n",
              "      <td>0.249224</td>\n",
              "      <td>Thalassemia</td>\n",
              "    </tr>\n",
              "    <tr>\n",
              "      <th>3</th>\n",
              "      <td>89.451092</td>\n",
              "      <td>163.471972</td>\n",
              "      <td>12.971330</td>\n",
              "      <td>383353.281756</td>\n",
              "      <td>9202.974727</td>\n",
              "      <td>5.308061</td>\n",
              "      <td>45.772641</td>\n",
              "      <td>80.585989</td>\n",
              "      <td>30.708618</td>\n",
              "      <td>34.038035</td>\n",
              "      <td>...</td>\n",
              "      <td>4.653919</td>\n",
              "      <td>113.533812</td>\n",
              "      <td>41.054196</td>\n",
              "      <td>8.840745</td>\n",
              "      <td>31.515443</td>\n",
              "      <td>81.523787</td>\n",
              "      <td>0.905224</td>\n",
              "      <td>0.009725</td>\n",
              "      <td>0.223425</td>\n",
              "      <td>Healthy</td>\n",
              "    </tr>\n",
              "    <tr>\n",
              "      <th>4</th>\n",
              "      <td>73.003778</td>\n",
              "      <td>156.078651</td>\n",
              "      <td>9.508795</td>\n",
              "      <td>316801.763755</td>\n",
              "      <td>6128.291310</td>\n",
              "      <td>4.313145</td>\n",
              "      <td>30.901451</td>\n",
              "      <td>79.257418</td>\n",
              "      <td>23.804128</td>\n",
              "      <td>30.325409</td>\n",
              "      <td>...</td>\n",
              "      <td>5.056972</td>\n",
              "      <td>110.582695</td>\n",
              "      <td>40.558452</td>\n",
              "      <td>54.729142</td>\n",
              "      <td>34.582405</td>\n",
              "      <td>62.936753</td>\n",
              "      <td>0.869506</td>\n",
              "      <td>0.025401</td>\n",
              "      <td>0.057178</td>\n",
              "      <td>Anemia</td>\n",
              "    </tr>\n",
              "    <tr>\n",
              "      <th>...</th>\n",
              "      <td>...</td>\n",
              "      <td>...</td>\n",
              "      <td>...</td>\n",
              "      <td>...</td>\n",
              "      <td>...</td>\n",
              "      <td>...</td>\n",
              "      <td>...</td>\n",
              "      <td>...</td>\n",
              "      <td>...</td>\n",
              "      <td>...</td>\n",
              "      <td>...</td>\n",
              "      <td>...</td>\n",
              "      <td>...</td>\n",
              "      <td>...</td>\n",
              "      <td>...</td>\n",
              "      <td>...</td>\n",
              "      <td>...</td>\n",
              "      <td>...</td>\n",
              "      <td>...</td>\n",
              "      <td>...</td>\n",
              "      <td>...</td>\n",
              "    </tr>\n",
              "    <tr>\n",
              "      <th>1995</th>\n",
              "      <td>78.467304</td>\n",
              "      <td>196.030695</td>\n",
              "      <td>9.660400</td>\n",
              "      <td>248017.013263</td>\n",
              "      <td>7322.896501</td>\n",
              "      <td>5.053746</td>\n",
              "      <td>36.629959</td>\n",
              "      <td>62.645940</td>\n",
              "      <td>21.071221</td>\n",
              "      <td>31.740195</td>\n",
              "      <td>...</td>\n",
              "      <td>4.599571</td>\n",
              "      <td>122.174444</td>\n",
              "      <td>40.130326</td>\n",
              "      <td>30.375447</td>\n",
              "      <td>33.817132</td>\n",
              "      <td>85.201789</td>\n",
              "      <td>0.884438</td>\n",
              "      <td>0.025786</td>\n",
              "      <td>0.272084</td>\n",
              "      <td>Thalassemia</td>\n",
              "    </tr>\n",
              "    <tr>\n",
              "      <th>1996</th>\n",
              "      <td>89.794868</td>\n",
              "      <td>199.208832</td>\n",
              "      <td>9.622338</td>\n",
              "      <td>367917.227317</td>\n",
              "      <td>6464.105997</td>\n",
              "      <td>5.126182</td>\n",
              "      <td>38.511034</td>\n",
              "      <td>68.566524</td>\n",
              "      <td>20.252809</td>\n",
              "      <td>34.769170</td>\n",
              "      <td>...</td>\n",
              "      <td>4.151174</td>\n",
              "      <td>121.470573</td>\n",
              "      <td>55.986503</td>\n",
              "      <td>42.545366</td>\n",
              "      <td>16.067826</td>\n",
              "      <td>87.591018</td>\n",
              "      <td>0.606434</td>\n",
              "      <td>0.012204</td>\n",
              "      <td>0.119646</td>\n",
              "      <td>Thalassemia</td>\n",
              "    </tr>\n",
              "    <tr>\n",
              "      <th>1997</th>\n",
              "      <td>94.588648</td>\n",
              "      <td>198.728059</td>\n",
              "      <td>9.828401</td>\n",
              "      <td>364022.336598</td>\n",
              "      <td>4571.157930</td>\n",
              "      <td>5.328591</td>\n",
              "      <td>30.750623</td>\n",
              "      <td>72.023879</td>\n",
              "      <td>20.400870</td>\n",
              "      <td>33.050342</td>\n",
              "      <td>...</td>\n",
              "      <td>5.112558</td>\n",
              "      <td>100.175238</td>\n",
              "      <td>48.060647</td>\n",
              "      <td>9.054448</td>\n",
              "      <td>30.204996</td>\n",
              "      <td>98.757940</td>\n",
              "      <td>0.993157</td>\n",
              "      <td>0.008975</td>\n",
              "      <td>0.106570</td>\n",
              "      <td>Thalassemia</td>\n",
              "    </tr>\n",
              "    <tr>\n",
              "      <th>1998</th>\n",
              "      <td>83.755948</td>\n",
              "      <td>192.621517</td>\n",
              "      <td>14.307665</td>\n",
              "      <td>890931.140750</td>\n",
              "      <td>5250.891739</td>\n",
              "      <td>4.569858</td>\n",
              "      <td>38.342342</td>\n",
              "      <td>82.944120</td>\n",
              "      <td>31.002047</td>\n",
              "      <td>33.976087</td>\n",
              "      <td>...</td>\n",
              "      <td>5.474767</td>\n",
              "      <td>123.730846</td>\n",
              "      <td>53.764718</td>\n",
              "      <td>51.770217</td>\n",
              "      <td>31.425448</td>\n",
              "      <td>98.157450</td>\n",
              "      <td>0.614873</td>\n",
              "      <td>0.036866</td>\n",
              "      <td>0.166722</td>\n",
              "      <td>Thromboc</td>\n",
              "    </tr>\n",
              "    <tr>\n",
              "      <th>1999</th>\n",
              "      <td>71.671780</td>\n",
              "      <td>167.122399</td>\n",
              "      <td>12.945867</td>\n",
              "      <td>391604.346467</td>\n",
              "      <td>8125.107371</td>\n",
              "      <td>4.986188</td>\n",
              "      <td>44.965611</td>\n",
              "      <td>82.783934</td>\n",
              "      <td>29.664262</td>\n",
              "      <td>34.504937</td>\n",
              "      <td>...</td>\n",
              "      <td>4.911004</td>\n",
              "      <td>117.999154</td>\n",
              "      <td>44.026242</td>\n",
              "      <td>26.361749</td>\n",
              "      <td>11.183786</td>\n",
              "      <td>79.021841</td>\n",
              "      <td>0.925815</td>\n",
              "      <td>0.009110</td>\n",
              "      <td>0.289209</td>\n",
              "      <td>Healthy</td>\n",
              "    </tr>\n",
              "  </tbody>\n",
              "</table>\n",
              "<p>2000 rows × 25 columns</p>\n",
              "</div>\n",
              "    <div class=\"colab-df-buttons\">\n",
              "\n",
              "  <div class=\"colab-df-container\">\n",
              "    <button class=\"colab-df-convert\" onclick=\"convertToInteractive('df-247db6a4-4290-452b-bbcd-5575907255f7')\"\n",
              "            title=\"Convert this dataframe to an interactive table.\"\n",
              "            style=\"display:none;\">\n",
              "\n",
              "  <svg xmlns=\"http://www.w3.org/2000/svg\" height=\"24px\" viewBox=\"0 -960 960 960\">\n",
              "    <path d=\"M120-120v-720h720v720H120Zm60-500h600v-160H180v160Zm220 220h160v-160H400v160Zm0 220h160v-160H400v160ZM180-400h160v-160H180v160Zm440 0h160v-160H620v160ZM180-180h160v-160H180v160Zm440 0h160v-160H620v160Z\"/>\n",
              "  </svg>\n",
              "    </button>\n",
              "\n",
              "  <style>\n",
              "    .colab-df-container {\n",
              "      display:flex;\n",
              "      gap: 12px;\n",
              "    }\n",
              "\n",
              "    .colab-df-convert {\n",
              "      background-color: #E8F0FE;\n",
              "      border: none;\n",
              "      border-radius: 50%;\n",
              "      cursor: pointer;\n",
              "      display: none;\n",
              "      fill: #1967D2;\n",
              "      height: 32px;\n",
              "      padding: 0 0 0 0;\n",
              "      width: 32px;\n",
              "    }\n",
              "\n",
              "    .colab-df-convert:hover {\n",
              "      background-color: #E2EBFA;\n",
              "      box-shadow: 0px 1px 2px rgba(60, 64, 67, 0.3), 0px 1px 3px 1px rgba(60, 64, 67, 0.15);\n",
              "      fill: #174EA6;\n",
              "    }\n",
              "\n",
              "    .colab-df-buttons div {\n",
              "      margin-bottom: 4px;\n",
              "    }\n",
              "\n",
              "    [theme=dark] .colab-df-convert {\n",
              "      background-color: #3B4455;\n",
              "      fill: #D2E3FC;\n",
              "    }\n",
              "\n",
              "    [theme=dark] .colab-df-convert:hover {\n",
              "      background-color: #434B5C;\n",
              "      box-shadow: 0px 1px 3px 1px rgba(0, 0, 0, 0.15);\n",
              "      filter: drop-shadow(0px 1px 2px rgba(0, 0, 0, 0.3));\n",
              "      fill: #FFFFFF;\n",
              "    }\n",
              "  </style>\n",
              "\n",
              "    <script>\n",
              "      const buttonEl =\n",
              "        document.querySelector('#df-247db6a4-4290-452b-bbcd-5575907255f7 button.colab-df-convert');\n",
              "      buttonEl.style.display =\n",
              "        google.colab.kernel.accessAllowed ? 'block' : 'none';\n",
              "\n",
              "      async function convertToInteractive(key) {\n",
              "        const element = document.querySelector('#df-247db6a4-4290-452b-bbcd-5575907255f7');\n",
              "        const dataTable =\n",
              "          await google.colab.kernel.invokeFunction('convertToInteractive',\n",
              "                                                    [key], {});\n",
              "        if (!dataTable) return;\n",
              "\n",
              "        const docLinkHtml = 'Like what you see? Visit the ' +\n",
              "          '<a target=\"_blank\" href=https://colab.research.google.com/notebooks/data_table.ipynb>data table notebook</a>'\n",
              "          + ' to learn more about interactive tables.';\n",
              "        element.innerHTML = '';\n",
              "        dataTable['output_type'] = 'display_data';\n",
              "        await google.colab.output.renderOutput(dataTable, element);\n",
              "        const docLink = document.createElement('div');\n",
              "        docLink.innerHTML = docLinkHtml;\n",
              "        element.appendChild(docLink);\n",
              "      }\n",
              "    </script>\n",
              "  </div>\n",
              "\n",
              "\n",
              "<div id=\"df-f37f23a6-78d5-43f0-a765-f7b322fd0894\">\n",
              "  <button class=\"colab-df-quickchart\" onclick=\"quickchart('df-f37f23a6-78d5-43f0-a765-f7b322fd0894')\"\n",
              "            title=\"Suggest charts\"\n",
              "            style=\"display:none;\">\n",
              "\n",
              "<svg xmlns=\"http://www.w3.org/2000/svg\" height=\"24px\"viewBox=\"0 0 24 24\"\n",
              "     width=\"24px\">\n",
              "    <g>\n",
              "        <path d=\"M19 3H5c-1.1 0-2 .9-2 2v14c0 1.1.9 2 2 2h14c1.1 0 2-.9 2-2V5c0-1.1-.9-2-2-2zM9 17H7v-7h2v7zm4 0h-2V7h2v10zm4 0h-2v-4h2v4z\"/>\n",
              "    </g>\n",
              "</svg>\n",
              "  </button>\n",
              "\n",
              "<style>\n",
              "  .colab-df-quickchart {\n",
              "      --bg-color: #E8F0FE;\n",
              "      --fill-color: #1967D2;\n",
              "      --hover-bg-color: #E2EBFA;\n",
              "      --hover-fill-color: #174EA6;\n",
              "      --disabled-fill-color: #AAA;\n",
              "      --disabled-bg-color: #DDD;\n",
              "  }\n",
              "\n",
              "  [theme=dark] .colab-df-quickchart {\n",
              "      --bg-color: #3B4455;\n",
              "      --fill-color: #D2E3FC;\n",
              "      --hover-bg-color: #434B5C;\n",
              "      --hover-fill-color: #FFFFFF;\n",
              "      --disabled-bg-color: #3B4455;\n",
              "      --disabled-fill-color: #666;\n",
              "  }\n",
              "\n",
              "  .colab-df-quickchart {\n",
              "    background-color: var(--bg-color);\n",
              "    border: none;\n",
              "    border-radius: 50%;\n",
              "    cursor: pointer;\n",
              "    display: none;\n",
              "    fill: var(--fill-color);\n",
              "    height: 32px;\n",
              "    padding: 0;\n",
              "    width: 32px;\n",
              "  }\n",
              "\n",
              "  .colab-df-quickchart:hover {\n",
              "    background-color: var(--hover-bg-color);\n",
              "    box-shadow: 0 1px 2px rgba(60, 64, 67, 0.3), 0 1px 3px 1px rgba(60, 64, 67, 0.15);\n",
              "    fill: var(--button-hover-fill-color);\n",
              "  }\n",
              "\n",
              "  .colab-df-quickchart-complete:disabled,\n",
              "  .colab-df-quickchart-complete:disabled:hover {\n",
              "    background-color: var(--disabled-bg-color);\n",
              "    fill: var(--disabled-fill-color);\n",
              "    box-shadow: none;\n",
              "  }\n",
              "\n",
              "  .colab-df-spinner {\n",
              "    border: 2px solid var(--fill-color);\n",
              "    border-color: transparent;\n",
              "    border-bottom-color: var(--fill-color);\n",
              "    animation:\n",
              "      spin 1s steps(1) infinite;\n",
              "  }\n",
              "\n",
              "  @keyframes spin {\n",
              "    0% {\n",
              "      border-color: transparent;\n",
              "      border-bottom-color: var(--fill-color);\n",
              "      border-left-color: var(--fill-color);\n",
              "    }\n",
              "    20% {\n",
              "      border-color: transparent;\n",
              "      border-left-color: var(--fill-color);\n",
              "      border-top-color: var(--fill-color);\n",
              "    }\n",
              "    30% {\n",
              "      border-color: transparent;\n",
              "      border-left-color: var(--fill-color);\n",
              "      border-top-color: var(--fill-color);\n",
              "      border-right-color: var(--fill-color);\n",
              "    }\n",
              "    40% {\n",
              "      border-color: transparent;\n",
              "      border-right-color: var(--fill-color);\n",
              "      border-top-color: var(--fill-color);\n",
              "    }\n",
              "    60% {\n",
              "      border-color: transparent;\n",
              "      border-right-color: var(--fill-color);\n",
              "    }\n",
              "    80% {\n",
              "      border-color: transparent;\n",
              "      border-right-color: var(--fill-color);\n",
              "      border-bottom-color: var(--fill-color);\n",
              "    }\n",
              "    90% {\n",
              "      border-color: transparent;\n",
              "      border-bottom-color: var(--fill-color);\n",
              "    }\n",
              "  }\n",
              "</style>\n",
              "\n",
              "  <script>\n",
              "    async function quickchart(key) {\n",
              "      const quickchartButtonEl =\n",
              "        document.querySelector('#' + key + ' button');\n",
              "      quickchartButtonEl.disabled = true;  // To prevent multiple clicks.\n",
              "      quickchartButtonEl.classList.add('colab-df-spinner');\n",
              "      try {\n",
              "        const charts = await google.colab.kernel.invokeFunction(\n",
              "            'suggestCharts', [key], {});\n",
              "      } catch (error) {\n",
              "        console.error('Error during call to suggestCharts:', error);\n",
              "      }\n",
              "      quickchartButtonEl.classList.remove('colab-df-spinner');\n",
              "      quickchartButtonEl.classList.add('colab-df-quickchart-complete');\n",
              "    }\n",
              "    (() => {\n",
              "      let quickchartButtonEl =\n",
              "        document.querySelector('#df-f37f23a6-78d5-43f0-a765-f7b322fd0894 button');\n",
              "      quickchartButtonEl.style.display =\n",
              "        google.colab.kernel.accessAllowed ? 'block' : 'none';\n",
              "    })();\n",
              "  </script>\n",
              "</div>\n",
              "\n",
              "  <div id=\"id_3b630883-df33-4dd4-90a9-287e9cb048de\">\n",
              "    <style>\n",
              "      .colab-df-generate {\n",
              "        background-color: #E8F0FE;\n",
              "        border: none;\n",
              "        border-radius: 50%;\n",
              "        cursor: pointer;\n",
              "        display: none;\n",
              "        fill: #1967D2;\n",
              "        height: 32px;\n",
              "        padding: 0 0 0 0;\n",
              "        width: 32px;\n",
              "      }\n",
              "\n",
              "      .colab-df-generate:hover {\n",
              "        background-color: #E2EBFA;\n",
              "        box-shadow: 0px 1px 2px rgba(60, 64, 67, 0.3), 0px 1px 3px 1px rgba(60, 64, 67, 0.15);\n",
              "        fill: #174EA6;\n",
              "      }\n",
              "\n",
              "      [theme=dark] .colab-df-generate {\n",
              "        background-color: #3B4455;\n",
              "        fill: #D2E3FC;\n",
              "      }\n",
              "\n",
              "      [theme=dark] .colab-df-generate:hover {\n",
              "        background-color: #434B5C;\n",
              "        box-shadow: 0px 1px 3px 1px rgba(0, 0, 0, 0.15);\n",
              "        filter: drop-shadow(0px 1px 2px rgba(0, 0, 0, 0.3));\n",
              "        fill: #FFFFFF;\n",
              "      }\n",
              "    </style>\n",
              "    <button class=\"colab-df-generate\" onclick=\"generateWithVariable('dataset')\"\n",
              "            title=\"Generate code using this dataframe.\"\n",
              "            style=\"display:none;\">\n",
              "\n",
              "  <svg xmlns=\"http://www.w3.org/2000/svg\" height=\"24px\"viewBox=\"0 0 24 24\"\n",
              "       width=\"24px\">\n",
              "    <path d=\"M7,19H8.4L18.45,9,17,7.55,7,17.6ZM5,21V16.75L18.45,3.32a2,2,0,0,1,2.83,0l1.4,1.43a1.91,1.91,0,0,1,.58,1.4,1.91,1.91,0,0,1-.58,1.4L9.25,21ZM18.45,9,17,7.55Zm-12,3A5.31,5.31,0,0,0,4.9,8.1,5.31,5.31,0,0,0,1,6.5,5.31,5.31,0,0,0,4.9,4.9,5.31,5.31,0,0,0,6.5,1,5.31,5.31,0,0,0,8.1,4.9,5.31,5.31,0,0,0,12,6.5,5.46,5.46,0,0,0,6.5,12Z\"/>\n",
              "  </svg>\n",
              "    </button>\n",
              "    <script>\n",
              "      (() => {\n",
              "      const buttonEl =\n",
              "        document.querySelector('#id_3b630883-df33-4dd4-90a9-287e9cb048de button.colab-df-generate');\n",
              "      buttonEl.style.display =\n",
              "        google.colab.kernel.accessAllowed ? 'block' : 'none';\n",
              "\n",
              "      buttonEl.onclick = () => {\n",
              "        google.colab.notebook.generateWithVariable('dataset');\n",
              "      }\n",
              "      })();\n",
              "    </script>\n",
              "  </div>\n",
              "\n",
              "    </div>\n",
              "  </div>\n"
            ],
            "application/vnd.google.colaboratory.intrinsic+json": {
              "type": "dataframe",
              "variable_name": "dataset"
            }
          },
          "metadata": {},
          "execution_count": 41
        }
      ],
      "source": [
        "dataset = pd.read_csv(\"/content/drive/MyDrive/Colab Notebooks/Blood_samples_dataset.csv\")\n",
        "dataset"
      ]
    },
    {
      "cell_type": "code",
      "execution_count": null,
      "metadata": {
        "colab": {
          "base_uri": "https://localhost:8080/"
        },
        "id": "d4irRf--a-3G",
        "outputId": "db62aa18-04ec-4f65-8855-a570d3043054"
      },
      "outputs": [
        {
          "output_type": "execute_result",
          "data": {
            "text/plain": [
              "Glucose                                      0\n",
              "Cholesterol                                  0\n",
              "Hemoglobin                                   0\n",
              "Platelets                                    0\n",
              "White Blood Cells                            0\n",
              "Red Blood Cells                              0\n",
              "Hematocrit                                   0\n",
              "Mean Corpuscular Volume                      0\n",
              "Mean Corpuscular Hemoglobin                  0\n",
              "Mean Corpuscular Hemoglobin Concentration    0\n",
              "Insulin                                      0\n",
              "BMI                                          0\n",
              "Systolic Blood Pressure                      0\n",
              "Diastolic Blood Pressure                     0\n",
              "Triglycerides                                0\n",
              "HbA1c                                        0\n",
              "LDL Cholesterol                              0\n",
              "HDL Cholesterol                              0\n",
              "ALT                                          0\n",
              "AST                                          0\n",
              "Heart Rate                                   0\n",
              "Creatinine                                   0\n",
              "Troponin                                     0\n",
              "C-reactive Protein                           0\n",
              "Disease                                      0\n",
              "dtype: int64"
            ]
          },
          "metadata": {},
          "execution_count": 42
        }
      ],
      "source": [
        "dataset.isnull().sum()"
      ]
    },
    {
      "cell_type": "code",
      "execution_count": null,
      "metadata": {
        "colab": {
          "base_uri": "https://localhost:8080/"
        },
        "id": "BhlIaU-LceqN",
        "outputId": "b410c0b0-01b6-4bc0-df81-4f3c4a5f4507"
      },
      "outputs": [
        {
          "output_type": "execute_result",
          "data": {
            "text/plain": [
              "0       Thalassemia\n",
              "1            Anemia\n",
              "2       Thalassemia\n",
              "3           Healthy\n",
              "4            Anemia\n",
              "           ...     \n",
              "1995    Thalassemia\n",
              "1996    Thalassemia\n",
              "1997    Thalassemia\n",
              "1998       Thromboc\n",
              "1999        Healthy\n",
              "Name: Disease, Length: 2000, dtype: object"
            ]
          },
          "metadata": {},
          "execution_count": 43
        }
      ],
      "source": [
        "X = dataset.drop([\"Disease\"], axis=1)\n",
        "y = dataset.Disease\n",
        "y"
      ]
    },
    {
      "cell_type": "code",
      "execution_count": null,
      "metadata": {
        "colab": {
          "base_uri": "https://localhost:8080/"
        },
        "id": "hH22xFSFMOXN",
        "outputId": "3c6dedd5-5326-4e44-a74b-fba0c0985c00"
      },
      "outputs": [
        {
          "output_type": "execute_result",
          "data": {
            "text/plain": [
              "Index(['Thalassemia', 'Anemia', 'Healthy', 'Thromboc', 'Diabetes'], dtype='object')"
            ]
          },
          "metadata": {},
          "execution_count": 44
        }
      ],
      "source": [
        "labels,counts = pd.factorize(dataset['Disease'])\n",
        "counts"
      ]
    },
    {
      "cell_type": "code",
      "execution_count": null,
      "metadata": {
        "colab": {
          "base_uri": "https://localhost:8080/"
        },
        "id": "pWAOr1N6NuZl",
        "outputId": "f3faab28-327d-4917-fbbb-2cb3ec2ac3fc"
      },
      "outputs": [
        {
          "output_type": "execute_result",
          "data": {
            "text/plain": [
              "Disease\n",
              "Thalassemia    400\n",
              "Anemia         400\n",
              "Healthy        400\n",
              "Thromboc       400\n",
              "Diabetes       400\n",
              "Name: count, dtype: int64"
            ]
          },
          "metadata": {},
          "execution_count": 45
        }
      ],
      "source": [
        "dataset.Disease.value_counts()"
      ]
    },
    {
      "cell_type": "markdown",
      "source": [
        "### **Data Preprocessing**"
      ],
      "metadata": {
        "id": "fIeSF0zhJo6Z"
      }
    },
    {
      "cell_type": "code",
      "source": [
        "import pickle\n",
        "from sklearn.preprocessing import MinMaxScaler\n",
        "scaler=MinMaxScaler()\n",
        "scaler.fit(X)\n",
        "X = scaler.transform(X)"
      ],
      "metadata": {
        "id": "8vl0IX0xqeAj"
      },
      "execution_count": null,
      "outputs": []
    },
    {
      "cell_type": "markdown",
      "source": [
        "### **Train Test Split**"
      ],
      "metadata": {
        "id": "tYLXbseqJirA"
      }
    },
    {
      "cell_type": "code",
      "execution_count": null,
      "metadata": {
        "id": "RwZ1MBsDdEl-"
      },
      "outputs": [],
      "source": [
        "xtrain, xtest, ytrain, ytest = train_test_split(X,y,test_size=0.3, random_state=0)"
      ]
    },
    {
      "cell_type": "code",
      "execution_count": null,
      "metadata": {
        "colab": {
          "base_uri": "https://localhost:8080/"
        },
        "id": "xIeDvqqX7Bcr",
        "outputId": "85f17a89-f514-4fb6-bc7b-44d94673a432"
      },
      "outputs": [
        {
          "output_type": "execute_result",
          "data": {
            "text/plain": [
              "array([[0.91979579, 0.99475346, 0.74091517, ..., 0.52160076, 0.93427183,\n",
              "        0.82641999],\n",
              "       [0.13835779, 0.28542263, 0.21746626, ..., 0.27638432, 0.05014785,\n",
              "        0.04756605],\n",
              "       [0.16983665, 0.02070773, 0.76773757, ..., 0.17327832, 0.76789273,\n",
              "        0.05843402],\n",
              "       ...,\n",
              "       [0.87705703, 0.55504448, 0.85069348, ..., 0.16269074, 0.0423838 ,\n",
              "        0.6036689 ],\n",
              "       [0.2150446 , 0.00704674, 0.32373995, ..., 0.64987973, 0.94193916,\n",
              "        0.07142082],\n",
              "       [0.00923011, 0.10715204, 0.83902603, ..., 0.97001637, 0.72840465,\n",
              "        0.09236999]])"
            ]
          },
          "metadata": {},
          "execution_count": 48
        }
      ],
      "source": [
        "xtrain"
      ]
    },
    {
      "cell_type": "code",
      "execution_count": null,
      "metadata": {
        "colab": {
          "base_uri": "https://localhost:8080/",
          "height": 581
        },
        "id": "e5j7rW4LeKeu",
        "outputId": "74e1c6b1-e064-4309-e28b-6d2fc7064977"
      },
      "outputs": [
        {
          "output_type": "execute_result",
          "data": {
            "text/plain": [
              "Text(0, 0.5, 'error rate')"
            ]
          },
          "metadata": {},
          "execution_count": 49
        },
        {
          "output_type": "display_data",
          "data": {
            "text/plain": [
              "<Figure size 1000x600 with 1 Axes>"
            ],
            "image/png": "[encoded data removed]"
          },
          "metadata": {}
        }
      ],
      "source": [
        "error=[]\n",
        "for i in range(1,200):\n",
        "    knn = KNeighborsClassifier(n_neighbors=i)\n",
        "    knn.fit(xtrain,ytrain)\n",
        "    pred1=knn.predict(xtest)\n",
        "    error.append(np.mean(pred1!=ytest))\n",
        "plt.figure(figsize=(10,6))\n",
        "plt.plot(range(1,200),error,color='blue',linestyle='dashed',marker = 'o',markerfacecolor='red',markersize=10)\n",
        "plt.title('Error rate vs K value')\n",
        "plt.xlabel('k')\n",
        "plt.ylabel('error rate')"
      ]
    },
    {
      "cell_type": "markdown",
      "source": [
        "### **Kth Nearest Neighbor Model**"
      ],
      "metadata": {
        "id": "xe0cP6nzJZ4J"
      }
    },
    {
      "cell_type": "code",
      "execution_count": null,
      "metadata": {
        "colab": {
          "base_uri": "https://localhost:8080/"
        },
        "id": "W5vaD6i3pY2Y",
        "outputId": "ab75f709-8e53-41e3-be59-56de884cf9ec"
      },
      "outputs": [
        {
          "output_type": "stream",
          "name": "stdout",
          "text": [
            "Accuracy: 95.16666666666667%\n"
          ]
        }
      ],
      "source": [
        "knn = KNeighborsClassifier(n_neighbors=30)\n",
        "knn.fit(xtrain,ytrain)\n",
        "pred_knn = knn.predict(xtest)\n",
        "KNN = accuracy_score(pred_knn,ytest)*100\n",
        "ki = {'KNN':KNN}\n",
        "AccDict.update(ki)\n",
        "print(f\"Accuracy: {KNN}%\")"
      ]
    },
    {
      "cell_type": "markdown",
      "source": [
        "### **Decision Tree Model**"
      ],
      "metadata": {
        "id": "l69p1rpGJVDS"
      }
    },
    {
      "cell_type": "code",
      "execution_count": null,
      "metadata": {
        "colab": {
          "base_uri": "https://localhost:8080/",
          "height": 74
        },
        "id": "oOLLbuxpPpOV",
        "outputId": "01637d08-c72c-4193-cfa2-0ea508a49d5e"
      },
      "outputs": [
        {
          "output_type": "execute_result",
          "data": {
            "text/plain": [
              "DecisionTreeClassifier()"
            ],
            "text/html": [
              "<style>#sk-container-id-2 {color: black;background-color: white;}#sk-container-id-2 pre{padding: 0;}#sk-container-id-2 div.sk-toggleable {background-color: white;}#sk-container-id-2 label.sk-toggleable__label {cursor: pointer;display: block;width: 100%;margin-bottom: 0;padding: 0.3em;box-sizing: border-box;text-align: center;}#sk-container-id-2 label.sk-toggleable__label-arrow:before {content: \"▸\";float: left;margin-right: 0.25em;color: #696969;}#sk-container-id-2 label.sk-toggleable__label-arrow:hover:before {color: black;}#sk-container-id-2 div.sk-estimator:hover label.sk-toggleable__label-arrow:before {color: black;}#sk-container-id-2 div.sk-toggleable__content {max-height: 0;max-width: 0;overflow: hidden;text-align: left;background-color: #f0f8ff;}#sk-container-id-2 div.sk-toggleable__content pre {margin: 0.2em;color: black;border-radius: 0.25em;background-color: #f0f8ff;}#sk-container-id-2 input.sk-toggleable__control:checked~div.sk-toggleable__content {max-height: 200px;max-width: 100%;overflow: auto;}#sk-container-id-2 input.sk-toggleable__control:checked~label.sk-toggleable__label-arrow:before {content: \"▾\";}#sk-container-id-2 div.sk-estimator input.sk-toggleable__control:checked~label.sk-toggleable__label {background-color: #d4ebff;}#sk-container-id-2 div.sk-label input.sk-toggleable__control:checked~label.sk-toggleable__label {background-color: #d4ebff;}#sk-container-id-2 input.sk-hidden--visually {border: 0;clip: rect(1px 1px 1px 1px);clip: rect(1px, 1px, 1px, 1px);height: 1px;margin: -1px;overflow: hidden;padding: 0;position: absolute;width: 1px;}#sk-container-id-2 div.sk-estimator {font-family: monospace;background-color: #f0f8ff;border: 1px dotted black;border-radius: 0.25em;box-sizing: border-box;margin-bottom: 0.5em;}#sk-container-id-2 div.sk-estimator:hover {background-color: #d4ebff;}#sk-container-id-2 div.sk-parallel-item::after {content: \"\";width: 100%;border-bottom: 1px solid gray;flex-grow: 1;}#sk-container-id-2 div.sk-label:hover label.sk-toggleable__label {background-color: #d4ebff;}#sk-container-id-2 div.sk-serial::before {content: \"\";position: absolute;border-left: 1px solid gray;box-sizing: border-box;top: 0;bottom: 0;left: 50%;z-index: 0;}#sk-container-id-2 div.sk-serial {display: flex;flex-direction: column;align-items: center;background-color: white;padding-right: 0.2em;padding-left: 0.2em;position: relative;}#sk-container-id-2 div.sk-item {position: relative;z-index: 1;}#sk-container-id-2 div.sk-parallel {display: flex;align-items: stretch;justify-content: center;background-color: white;position: relative;}#sk-container-id-2 div.sk-item::before, #sk-container-id-2 div.sk-parallel-item::before {content: \"\";position: absolute;border-left: 1px solid gray;box-sizing: border-box;top: 0;bottom: 0;left: 50%;z-index: -1;}#sk-container-id-2 div.sk-parallel-item {display: flex;flex-direction: column;z-index: 1;position: relative;background-color: white;}#sk-container-id-2 div.sk-parallel-item:first-child::after {align-self: flex-end;width: 50%;}#sk-container-id-2 div.sk-parallel-item:last-child::after {align-self: flex-start;width: 50%;}#sk-container-id-2 div.sk-parallel-item:only-child::after {width: 0;}#sk-container-id-2 div.sk-dashed-wrapped {border: 1px dashed gray;margin: 0 0.4em 0.5em 0.4em;box-sizing: border-box;padding-bottom: 0.4em;background-color: white;}#sk-container-id-2 div.sk-label label {font-family: monospace;font-weight: bold;display: inline-block;line-height: 1.2em;}#sk-container-id-2 div.sk-label-container {text-align: center;}#sk-container-id-2 div.sk-container {/* jupyter's `normalize.less` sets `[hidden] { display: none; }` but bootstrap.min.css set `[hidden] { display: none !important; }` so we also need the `!important` here to be able to override the default hidden behavior on the sphinx rendered scikit-learn.org. See: https://github.com/scikit-learn/scikit-learn/issues/21755 */display: inline-block !important;position: relative;}#sk-container-id-2 div.sk-text-repr-fallback {display: none;}</style><div id=\"sk-container-id-2\" class=\"sk-top-container\"><div class=\"sk-text-repr-fallback\"><pre>DecisionTreeClassifier()</pre><b>In a Jupyter environment, please rerun this cell to show the HTML representation or trust the notebook. <br />On GitHub, the HTML representation is unable to render, please try loading this page with nbviewer.org.</b></div><div class=\"sk-container\" hidden><div class=\"sk-item\"><div class=\"sk-estimator sk-toggleable\"><input class=\"sk-toggleable__control sk-hidden--visually\" id=\"sk-estimator-id-2\" type=\"checkbox\" checked><label for=\"sk-estimator-id-2\" class=\"sk-toggleable__label sk-toggleable__label-arrow\">DecisionTreeClassifier</label><div class=\"sk-toggleable__content\"><pre>DecisionTreeClassifier()</pre></div></div></div></div></div>"
            ]
          },
          "metadata": {},
          "execution_count": 51
        }
      ],
      "source": [
        "model = DecisionTreeClassifier()\n",
        "model.fit(xtrain, ytrain)"
      ]
    },
    {
      "cell_type": "code",
      "execution_count": null,
      "metadata": {
        "colab": {
          "base_uri": "https://localhost:8080/"
        },
        "id": "8UUYYp7MPsPd",
        "outputId": "779b1757-4859-47e2-b821-d08746681ce2"
      },
      "outputs": [
        {
          "output_type": "execute_result",
          "data": {
            "text/plain": [
              "{'DecisionTree': 99.83333333333333}"
            ]
          },
          "metadata": {},
          "execution_count": 52
        }
      ],
      "source": [
        "dtc_score=model.score(xtest, ytest)*100\n",
        "dtc={'DecisionTree':dtc_score}\n",
        "AccDict.update(dtc)\n",
        "dtc"
      ]
    },
    {
      "cell_type": "markdown",
      "source": [
        "### **Support Vector Machine Model**"
      ],
      "metadata": {
        "id": "z55CAD29JPBX"
      }
    },
    {
      "cell_type": "code",
      "source": [
        "# Train the SVM model\n",
        "svm_model = SVC(probability=True)\n",
        "svm_model.fit(xtrain, ytrain)\n",
        "\n",
        "# Make predictions on the test set\n",
        "y_pred = svm_model.predict(xtest)\n",
        "\n",
        "# Calculate the accuracy\n",
        "accuracy = accuracy_score(ytest, y_pred)*100\n",
        "sv={'SVM':accuracy}\n",
        "AccDict.update(sv)\n",
        "print(f\"Accuracy of the SVM model: {accuracy * 100:.2f}%\")\n",
        "sv"
      ],
      "metadata": {
        "colab": {
          "base_uri": "https://localhost:8080/"
        },
        "id": "kagRwaL2Eq5J",
        "outputId": "82a208eb-0d99-45ac-f433-1504ce8baf08"
      },
      "execution_count": null,
      "outputs": [
        {
          "output_type": "stream",
          "name": "stdout",
          "text": [
            "Accuracy of the SVM model: 9900.00%\n"
          ]
        },
        {
          "output_type": "execute_result",
          "data": {
            "text/plain": [
              "{'SVM': 99.0}"
            ]
          },
          "metadata": {},
          "execution_count": 53
        }
      ]
    },
    {
      "cell_type": "markdown",
      "source": [
        "### **Random Forest Model**"
      ],
      "metadata": {
        "id": "_rU-84SsJIOL"
      }
    },
    {
      "cell_type": "code",
      "source": [
        "# Train the RandomForestClassifier model\n",
        "rf_model = RandomForestClassifier()\n",
        "rf_model.fit(xtrain, ytrain)\n",
        "\n",
        "# Make predictions on the test set\n",
        "y_pred_rf = rf_model.predict(xtest)\n",
        "\n",
        "# Calculate the accuracy\n",
        "accuracy_rf = accuracy_score(ytest, y_pred_rf)*100\n",
        "rf={'RandomForest':accuracy_rf}\n",
        "AccDict.update(rf)\n",
        "print(f\"Accuracy of the RandomForest model: {accuracy_rf * 100:.2f}%\")\n",
        "rf"
      ],
      "metadata": {
        "colab": {
          "base_uri": "https://localhost:8080/"
        },
        "id": "3EsGGk2EFAFy",
        "outputId": "d75cd19f-9bc4-4be4-b3d0-e5d9cf3b0e71"
      },
      "execution_count": null,
      "outputs": [
        {
          "output_type": "stream",
          "name": "stdout",
          "text": [
            "Accuracy of the RandomForest model: 9983.33%\n"
          ]
        },
        {
          "output_type": "execute_result",
          "data": {
            "text/plain": [
              "{'RandomForest': 99.83333333333333}"
            ]
          },
          "metadata": {},
          "execution_count": 54
        }
      ]
    },
    {
      "cell_type": "markdown",
      "source": [
        "### **Adaboost Model**"
      ],
      "metadata": {
        "id": "_5SrIqNhJDkm"
      }
    },
    {
      "cell_type": "code",
      "source": [
        "# Train the AdaBoost model\n",
        "adaboost_model = AdaBoostClassifier()\n",
        "adaboost_model.fit(xtrain, ytrain)\n",
        "\n",
        "# Make predictions on the test set\n",
        "y_pred = adaboost_model.predict(xtest)\n",
        "\n",
        "# Calculate the accuracy\n",
        "accuracy = accuracy_score(ytest, y_pred)*100\n",
        "ab={'Adaboost':accuracy}\n",
        "AccDict.update(ab)\n",
        "print(f\"Accuracy of the AdaBoost model: {accuracy}%\")\n",
        "ab"
      ],
      "metadata": {
        "colab": {
          "base_uri": "https://localhost:8080/"
        },
        "id": "J6alsm5aFSCJ",
        "outputId": "89460ec5-923c-4b69-83ac-976db2415aef"
      },
      "execution_count": null,
      "outputs": [
        {
          "output_type": "stream",
          "name": "stdout",
          "text": [
            "Accuracy of the AdaBoost model: 58.5%\n"
          ]
        },
        {
          "output_type": "execute_result",
          "data": {
            "text/plain": [
              "{'Adaboost': 58.5}"
            ]
          },
          "metadata": {},
          "execution_count": 55
        }
      ]
    },
    {
      "cell_type": "code",
      "source": [],
      "metadata": {
        "id": "vx7tbJ0yI6Pv"
      },
      "execution_count": null,
      "outputs": []
    },
    {
      "cell_type": "markdown",
      "source": [
        "### **Naive Bayes Model**"
      ],
      "metadata": {
        "id": "5XtLfdMvI5D9"
      }
    },
    {
      "cell_type": "code",
      "source": [
        "# Train the Naive Bayes model\n",
        "nb_model = GaussianNB()\n",
        "nb_model.fit(xtrain, ytrain)\n",
        "\n",
        "# Make predictions on the test set\n",
        "y_pred = nb_model.predict(xtest)\n",
        "\n",
        "# Calculate the accuracy\n",
        "accuracy = accuracy_score(ytest, y_pred)*100\n",
        "nb={'Naive Bayes':accuracy}\n",
        "AccDict.update(nb)\n",
        "print(f\"Accuracy of the Naive Bayes model: {accuracy}%\")\n",
        "nb"
      ],
      "metadata": {
        "colab": {
          "base_uri": "https://localhost:8080/"
        },
        "id": "qX3C1EIoFjvp",
        "outputId": "aed360f8-90a2-40f1-d10a-a622fe562e34"
      },
      "execution_count": null,
      "outputs": [
        {
          "output_type": "stream",
          "name": "stdout",
          "text": [
            "Accuracy of the Naive Bayes model: 99.5%\n"
          ]
        },
        {
          "output_type": "execute_result",
          "data": {
            "text/plain": [
              "{'Naive Bayes': 99.5}"
            ]
          },
          "metadata": {},
          "execution_count": 56
        }
      ]
    },
    {
      "cell_type": "markdown",
      "source": [
        "### **Input New Data**"
      ],
      "metadata": {
        "id": "idtxODR3IrJL"
      }
    },
    {
      "cell_type": "code",
      "source": [
        "input_data = (89.45109243783543,163.47197231518274,12.971329817158374,383353.2817558637,9202.974726652075,5.308061346712632,45.77264065304735,80.58598886206836,30.70861779337018,34.03803549289681,14.770217859081413,20.80031249171723,92.44421693138825,63.866784672241046,145.07447132126717,4.653919299633494,113.53381151909505,41.05419579706878,8.840745247655049,31.51544341140273,81.52378656484444,0.90522359052976,0.009724981216906748,0.22342521948897667)\n",
        "\n",
        "# Convert input data to a numpy array\n",
        "input_data_as_numpy_array = np.asarray(input_data)\n",
        "\n",
        "# Reshape the numpy array as we are predicting for only one instance\n",
        "input_data_reshaped = input_data_as_numpy_array.reshape(1, -1)\n",
        "\n",
        "# Scale the input data using the loaded scaler\n",
        "scaled_input_data = scaler.transform(input_data_reshaped)\n",
        "# Predict using the loaded KNN model\n",
        "prediction = svm_model.predict(scaled_input_data)\n",
        "prediction"
      ],
      "metadata": {
        "colab": {
          "base_uri": "https://localhost:8080/"
        },
        "id": "niYGiLniSClz",
        "outputId": "727c6ca7-a528-465a-ac81-d6115ba0b0ad"
      },
      "execution_count": null,
      "outputs": [
        {
          "output_type": "stream",
          "name": "stderr",
          "text": [
            "/usr/local/lib/python3.10/dist-packages/sklearn/base.py:439: UserWarning: X does not have valid feature names, but MinMaxScaler was fitted with feature names\n",
            "  warnings.warn(\n"
          ]
        },
        {
          "output_type": "execute_result",
          "data": {
            "text/plain": [
              "array(['Healthy'], dtype=object)"
            ]
          },
          "metadata": {},
          "execution_count": 57
        }
      ]
    },
    {
      "cell_type": "code",
      "execution_count": null,
      "metadata": {
        "id": "euXaQxdmQvYw"
      },
      "outputs": [],
      "source": [
        "import pickle\n",
        "pickle.dump(svm_model,open('svm_model.pkl', 'wb'))\n",
        "pickle.dump(scaler,open('scaling.pkl','wb'))"
      ]
    },
    {
      "cell_type": "code",
      "source": [
        "AccDict = {key: round(value,2) for key, value in AccDict.items()}"
      ],
      "metadata": {
        "id": "REkOcDe_JXOZ"
      },
      "execution_count": null,
      "outputs": []
    },
    {
      "cell_type": "markdown",
      "source": [
        "### **Comparison Plotting**"
      ],
      "metadata": {
        "id": "pPn1lbAUJ6Jk"
      }
    },
    {
      "cell_type": "code",
      "source": [
        "Classifier = list(AccDict.keys())\n",
        "Accuracy = list(AccDict.values())\n",
        "\n",
        "fig = plt.figure(figsize = (10, 5))\n",
        "\n",
        "# creating the bar plot\n",
        "plt.bar(Classifier, Accuracy, color ='maroon',\n",
        "        width = 0.4)\n",
        "bars = plt.bar(Classifier, Accuracy, color='maroon', width=0.4)\n",
        "for bar in bars:\n",
        "    height = bar.get_height()\n",
        "    plt.text(bar.get_x() + bar.get_width() / 2.0, height, f'{height}%', ha='center', va='bottom')\n",
        "plt.xlabel(\"Classifier Used\")\n",
        "plt.ylabel(\"Accuracy\")\n",
        "plt.title(\"Comparison between Classifier with respect to Accuracy\")\n",
        "plt.show()"
      ],
      "metadata": {
        "colab": {
          "base_uri": "https://localhost:8080/",
          "height": 487
        },
        "id": "4fWokE0rEP-p",
        "outputId": "c5c158ec-f3c8-450b-db4b-178e0ac797ee"
      },
      "execution_count": null,
      "outputs": [
        {
          "output_type": "display_data",
          "data": {
            "text/plain": [
              "<Figure size 1000x500 with 1 Axes>"
            ],
            "image/png": "[encoded data removed]"
          },
          "metadata": {}
        }
      ]
    }
  ],
  "metadata": {
    "colab": {
      "provenance": []
    },
    "kernelspec": {
      "display_name": "Python 3",
      "name": "python3"
    },
    "language_info": {
      "name": "python"
    }
  },
  "nbformat": 4,
  "nbformat_minor": 0
}